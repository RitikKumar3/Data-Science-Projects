{
 "cells": [
  {
   "cell_type": "markdown",
   "id": "c48a6352",
   "metadata": {},
   "source": [
    "<center><img src=\"https://souranshi.in/wp-content/uploads/2023/11/Best-movies-on-netflix-right-now.jpeg\" style=\"width: 800px;\"/>"
   ]
  },
  {
   "cell_type": "markdown",
   "id": "1a828752",
   "metadata": {},
   "source": [
    "# Netflix Recommendation Engine"
   ]
  },
  {
   "cell_type": "markdown",
   "id": "d6ba9490",
   "metadata": {},
   "source": [
    "## Problem Statement:\n",
    "    \n",
    "Customer Behaviour and it’s prediction lies at the core of every Business Model. From Stock Exchange, e-Commerce and Automobile to even Presidential Elections, predictions serve a great purpose. Most of these predictions are based on the data available about a person’s activity either online or in-person.\n",
    "\n",
    "Recommendation Engines are the much needed manifestations of the desired Predictability of User Activity. Recommendation Engines move one step further and not only give information but put forth strategies to further increase users interaction with the platform.\n",
    "\n",
    "In today’s world OTT platform and Streaming Services have taken up a big chunk in the Retail and Entertainment industry. Organizations like Netflix, Amazon etc. analyse User Activity Pattern’s and suggest products that better suit the user needs and choices.\n",
    "\n",
    "For the purpose of this Project we will be creating one such Recommendation Engine from the ground-up, where every single user, based on there area of interest and ratings, would be recommended a list of movies that are best suited for them."
   ]
  },
  {
   "cell_type": "markdown",
   "id": "ae3385e8",
   "metadata": {},
   "source": [
    "### Import important libraries"
   ]
  },
  {
   "cell_type": "code",
   "execution_count": 1,
   "id": "da1780b3",
   "metadata": {},
   "outputs": [],
   "source": [
    "# Supress Warnings\n",
    "import warnings\n",
    "warnings.filterwarnings(\"ignore\")\n",
    "\n",
    "# numpy & pandas\n",
    "import numpy as np\n",
    "import pandas as pd\n",
    "import math \n",
    "\n",
    "#visualization libraries\n",
    "import matplotlib.pyplot as plt\n",
    "import seaborn as sns"
   ]
  },
  {
   "cell_type": "code",
   "execution_count": 2,
   "id": "1cbfc6b4",
   "metadata": {
    "scrolled": true
   },
   "outputs": [],
   "source": [
    "#conda install -c conda-forge scikit-surprise"
   ]
  },
  {
   "cell_type": "code",
   "execution_count": 3,
   "id": "85aca0ba",
   "metadata": {
    "scrolled": true
   },
   "outputs": [],
   "source": [
    "#!pip install scikit-surprise"
   ]
  },
  {
   "cell_type": "code",
   "execution_count": 4,
   "id": "c4a29b15",
   "metadata": {},
   "outputs": [],
   "source": [
    "# import libraries for model building\n",
    "import math\n",
    "from surprise import Reader, Dataset, SVD\n",
    "from surprise.model_selection import cross_validate"
   ]
  },
  {
   "cell_type": "markdown",
   "id": "2bb91e0c",
   "metadata": {},
   "source": [
    "### Data Loading and Exploration:\n",
    "+ Loading the dataset.\n",
    "+ Exploring the dataset to understand its structure and properties such as the number of customers, ratings, and movies."
   ]
  },
  {
   "cell_type": "code",
   "execution_count": 5,
   "id": "23bc8372",
   "metadata": {},
   "outputs": [
    {
     "data": {
      "text/html": [
       "<div>\n",
       "<style scoped>\n",
       "    .dataframe tbody tr th:only-of-type {\n",
       "        vertical-align: middle;\n",
       "    }\n",
       "\n",
       "    .dataframe tbody tr th {\n",
       "        vertical-align: top;\n",
       "    }\n",
       "\n",
       "    .dataframe thead th {\n",
       "        text-align: right;\n",
       "    }\n",
       "</style>\n",
       "<table border=\"1\" class=\"dataframe\">\n",
       "  <thead>\n",
       "    <tr style=\"text-align: right;\">\n",
       "      <th></th>\n",
       "      <th>Cust_Id</th>\n",
       "      <th>Rating</th>\n",
       "    </tr>\n",
       "  </thead>\n",
       "  <tbody>\n",
       "    <tr>\n",
       "      <th>0</th>\n",
       "      <td>1:</td>\n",
       "      <td>NaN</td>\n",
       "    </tr>\n",
       "    <tr>\n",
       "      <th>1</th>\n",
       "      <td>1488844</td>\n",
       "      <td>3.0</td>\n",
       "    </tr>\n",
       "    <tr>\n",
       "      <th>2</th>\n",
       "      <td>822109</td>\n",
       "      <td>5.0</td>\n",
       "    </tr>\n",
       "    <tr>\n",
       "      <th>3</th>\n",
       "      <td>885013</td>\n",
       "      <td>4.0</td>\n",
       "    </tr>\n",
       "    <tr>\n",
       "      <th>4</th>\n",
       "      <td>30878</td>\n",
       "      <td>4.0</td>\n",
       "    </tr>\n",
       "  </tbody>\n",
       "</table>\n",
       "</div>"
      ],
      "text/plain": [
       "   Cust_Id  Rating\n",
       "0       1:     NaN\n",
       "1  1488844     3.0\n",
       "2   822109     5.0\n",
       "3   885013     4.0\n",
       "4    30878     4.0"
      ]
     },
     "execution_count": 5,
     "metadata": {},
     "output_type": "execute_result"
    }
   ],
   "source": [
    "# Reading dataset file\n",
    "data = pd.read_csv('combined_data_1.txt.zip',header = None, names = ['Cust_Id', 'Rating'], usecols = [0,1])\n",
    "data.head()"
   ]
  },
  {
   "cell_type": "code",
   "execution_count": 6,
   "id": "88ca1eb0",
   "metadata": {},
   "outputs": [
    {
     "data": {
      "text/plain": [
       "Cust_Id     object\n",
       "Rating     float64\n",
       "dtype: object"
      ]
     },
     "execution_count": 6,
     "metadata": {},
     "output_type": "execute_result"
    }
   ],
   "source": [
    "data.dtypes #checking datatypes"
   ]
  },
  {
   "cell_type": "code",
   "execution_count": 7,
   "id": "609d0c52",
   "metadata": {},
   "outputs": [
    {
     "data": {
      "text/plain": [
       "(24058263, 2)"
      ]
     },
     "execution_count": 7,
     "metadata": {},
     "output_type": "execute_result"
    }
   ],
   "source": [
    "data.shape #shape of dataset"
   ]
  },
  {
   "cell_type": "code",
   "execution_count": 8,
   "id": "341598a7",
   "metadata": {},
   "outputs": [
    {
     "data": {
      "text/plain": [
       "Cust_Id       0\n",
       "Rating     4499\n",
       "dtype: int64"
      ]
     },
     "execution_count": 8,
     "metadata": {},
     "output_type": "execute_result"
    }
   ],
   "source": [
    "#get the customer count with NaN values\n",
    "movie_count = data.isnull().sum()\n",
    "movie_count"
   ]
  },
  {
   "cell_type": "code",
   "execution_count": 9,
   "id": "8c442209",
   "metadata": {},
   "outputs": [
    {
     "data": {
      "text/plain": [
       "475257"
      ]
     },
     "execution_count": 9,
     "metadata": {},
     "output_type": "execute_result"
    }
   ],
   "source": [
    "#to claculate how many customers we are having in the dataset\n",
    "customer_count=data['Cust_Id'].nunique()\n",
    "customer_count"
   ]
  },
  {
   "cell_type": "code",
   "execution_count": 10,
   "id": "b3b3fee7",
   "metadata": {},
   "outputs": [
    {
     "data": {
      "text/plain": [
       "Cust_Id    475257\n",
       "Rating     470758\n",
       "dtype: int64"
      ]
     },
     "execution_count": 10,
     "metadata": {},
     "output_type": "execute_result"
    }
   ],
   "source": [
    "#without NaN values\n",
    "customer_count = data['Cust_Id'].nunique()-movie_count\n",
    "customer_count"
   ]
  },
  {
   "cell_type": "code",
   "execution_count": 11,
   "id": "ef2e8422",
   "metadata": {},
   "outputs": [
    {
     "data": {
      "text/plain": [
       "Cust_Id    24058263\n",
       "Rating     24053764\n",
       "dtype: int64"
      ]
     },
     "execution_count": 11,
     "metadata": {},
     "output_type": "execute_result"
    }
   ],
   "source": [
    "#get the total number of ratings given by the customers\n",
    "rating_count = data['Cust_Id'].count()-movie_count\n",
    "rating_count"
   ]
  },
  {
   "cell_type": "code",
   "execution_count": 12,
   "id": "f3c2e8cd",
   "metadata": {},
   "outputs": [],
   "source": [
    "#To find out how many people have rated the movies as 1, 2, 3,4,5 stars ratings to the movies\n",
    "stars = data.groupby('Rating')['Rating'].agg(['count'])"
   ]
  },
  {
   "cell_type": "code",
   "execution_count": 13,
   "id": "46c3da05",
   "metadata": {},
   "outputs": [
    {
     "data": {
      "text/html": [
       "<div>\n",
       "<style scoped>\n",
       "    .dataframe tbody tr th:only-of-type {\n",
       "        vertical-align: middle;\n",
       "    }\n",
       "\n",
       "    .dataframe tbody tr th {\n",
       "        vertical-align: top;\n",
       "    }\n",
       "\n",
       "    .dataframe thead th {\n",
       "        text-align: right;\n",
       "    }\n",
       "</style>\n",
       "<table border=\"1\" class=\"dataframe\">\n",
       "  <thead>\n",
       "    <tr style=\"text-align: right;\">\n",
       "      <th></th>\n",
       "      <th>count</th>\n",
       "    </tr>\n",
       "    <tr>\n",
       "      <th>Rating</th>\n",
       "      <th></th>\n",
       "    </tr>\n",
       "  </thead>\n",
       "  <tbody>\n",
       "    <tr>\n",
       "      <th>1.0</th>\n",
       "      <td>1118186</td>\n",
       "    </tr>\n",
       "    <tr>\n",
       "      <th>2.0</th>\n",
       "      <td>2439073</td>\n",
       "    </tr>\n",
       "    <tr>\n",
       "      <th>3.0</th>\n",
       "      <td>6904181</td>\n",
       "    </tr>\n",
       "    <tr>\n",
       "      <th>4.0</th>\n",
       "      <td>8085741</td>\n",
       "    </tr>\n",
       "    <tr>\n",
       "      <th>5.0</th>\n",
       "      <td>5506583</td>\n",
       "    </tr>\n",
       "  </tbody>\n",
       "</table>\n",
       "</div>"
      ],
      "text/plain": [
       "          count\n",
       "Rating         \n",
       "1.0     1118186\n",
       "2.0     2439073\n",
       "3.0     6904181\n",
       "4.0     8085741\n",
       "5.0     5506583"
      ]
     },
     "execution_count": 13,
     "metadata": {},
     "output_type": "execute_result"
    }
   ],
   "source": [
    "stars"
   ]
  },
  {
   "cell_type": "code",
   "execution_count": 14,
   "id": "5f8da1f2",
   "metadata": {},
   "outputs": [
    {
     "data": {
      "image/png": "[encoded data removed]",
      "text/plain": [
       "<Figure size 1500x1000 with 1 Axes>"
      ]
     },
     "metadata": {},
     "output_type": "display_data"
    }
   ],
   "source": [
    "# To plot the distribution of the ratings in as a bar plot \n",
    "ax=stars.plot(kind='barh', legend=False, figsize=(15,10))\n",
    "plt.title(f'Total pool: {movie_count} Movies, {customer_count} Customers, {rating_count} ratings given', fontsize=20)\n",
    "plt.grid(True)"
   ]
  },
  {
   "cell_type": "code",
   "execution_count": 15,
   "id": "f9e0e257",
   "metadata": {},
   "outputs": [],
   "source": [
    "#Add another column that will have movie id\n",
    "#first of all we will be calculating how many null values we are having in the ratings column\n",
    "df_nan = pd.DataFrame(pd.isnull(data.Rating))"
   ]
  },
  {
   "cell_type": "code",
   "execution_count": 16,
   "id": "d29517e9",
   "metadata": {},
   "outputs": [
    {
     "data": {
      "text/html": [
       "<div>\n",
       "<style scoped>\n",
       "    .dataframe tbody tr th:only-of-type {\n",
       "        vertical-align: middle;\n",
       "    }\n",
       "\n",
       "    .dataframe tbody tr th {\n",
       "        vertical-align: top;\n",
       "    }\n",
       "\n",
       "    .dataframe thead th {\n",
       "        text-align: right;\n",
       "    }\n",
       "</style>\n",
       "<table border=\"1\" class=\"dataframe\">\n",
       "  <thead>\n",
       "    <tr style=\"text-align: right;\">\n",
       "      <th></th>\n",
       "      <th>Rating</th>\n",
       "    </tr>\n",
       "  </thead>\n",
       "  <tbody>\n",
       "    <tr>\n",
       "      <th>0</th>\n",
       "      <td>True</td>\n",
       "    </tr>\n",
       "    <tr>\n",
       "      <th>1</th>\n",
       "      <td>False</td>\n",
       "    </tr>\n",
       "    <tr>\n",
       "      <th>2</th>\n",
       "      <td>False</td>\n",
       "    </tr>\n",
       "    <tr>\n",
       "      <th>3</th>\n",
       "      <td>False</td>\n",
       "    </tr>\n",
       "    <tr>\n",
       "      <th>4</th>\n",
       "      <td>False</td>\n",
       "    </tr>\n",
       "    <tr>\n",
       "      <th>...</th>\n",
       "      <td>...</td>\n",
       "    </tr>\n",
       "    <tr>\n",
       "      <th>24058258</th>\n",
       "      <td>False</td>\n",
       "    </tr>\n",
       "    <tr>\n",
       "      <th>24058259</th>\n",
       "      <td>False</td>\n",
       "    </tr>\n",
       "    <tr>\n",
       "      <th>24058260</th>\n",
       "      <td>False</td>\n",
       "    </tr>\n",
       "    <tr>\n",
       "      <th>24058261</th>\n",
       "      <td>False</td>\n",
       "    </tr>\n",
       "    <tr>\n",
       "      <th>24058262</th>\n",
       "      <td>False</td>\n",
       "    </tr>\n",
       "  </tbody>\n",
       "</table>\n",
       "<p>24058263 rows × 1 columns</p>\n",
       "</div>"
      ],
      "text/plain": [
       "          Rating\n",
       "0           True\n",
       "1          False\n",
       "2          False\n",
       "3          False\n",
       "4          False\n",
       "...          ...\n",
       "24058258   False\n",
       "24058259   False\n",
       "24058260   False\n",
       "24058261   False\n",
       "24058262   False\n",
       "\n",
       "[24058263 rows x 1 columns]"
      ]
     },
     "execution_count": 16,
     "metadata": {},
     "output_type": "execute_result"
    }
   ],
   "source": [
    "df_nan"
   ]
  },
  {
   "cell_type": "code",
   "execution_count": 17,
   "id": "bfaf7b42",
   "metadata": {},
   "outputs": [
    {
     "data": {
      "text/html": [
       "<div>\n",
       "<style scoped>\n",
       "    .dataframe tbody tr th:only-of-type {\n",
       "        vertical-align: middle;\n",
       "    }\n",
       "\n",
       "    .dataframe tbody tr th {\n",
       "        vertical-align: top;\n",
       "    }\n",
       "\n",
       "    .dataframe thead th {\n",
       "        text-align: right;\n",
       "    }\n",
       "</style>\n",
       "<table border=\"1\" class=\"dataframe\">\n",
       "  <thead>\n",
       "    <tr style=\"text-align: right;\">\n",
       "      <th></th>\n",
       "      <th>Rating</th>\n",
       "    </tr>\n",
       "  </thead>\n",
       "  <tbody>\n",
       "    <tr>\n",
       "      <th>0</th>\n",
       "      <td>True</td>\n",
       "    </tr>\n",
       "    <tr>\n",
       "      <th>548</th>\n",
       "      <td>True</td>\n",
       "    </tr>\n",
       "    <tr>\n",
       "      <th>694</th>\n",
       "      <td>True</td>\n",
       "    </tr>\n",
       "    <tr>\n",
       "      <th>2707</th>\n",
       "      <td>True</td>\n",
       "    </tr>\n",
       "    <tr>\n",
       "      <th>2850</th>\n",
       "      <td>True</td>\n",
       "    </tr>\n",
       "    <tr>\n",
       "      <th>...</th>\n",
       "      <td>...</td>\n",
       "    </tr>\n",
       "    <tr>\n",
       "      <th>24046714</th>\n",
       "      <td>True</td>\n",
       "    </tr>\n",
       "    <tr>\n",
       "      <th>24047329</th>\n",
       "      <td>True</td>\n",
       "    </tr>\n",
       "    <tr>\n",
       "      <th>24056849</th>\n",
       "      <td>True</td>\n",
       "    </tr>\n",
       "    <tr>\n",
       "      <th>24057564</th>\n",
       "      <td>True</td>\n",
       "    </tr>\n",
       "    <tr>\n",
       "      <th>24057834</th>\n",
       "      <td>True</td>\n",
       "    </tr>\n",
       "  </tbody>\n",
       "</table>\n",
       "<p>4499 rows × 1 columns</p>\n",
       "</div>"
      ],
      "text/plain": [
       "          Rating\n",
       "0           True\n",
       "548         True\n",
       "694         True\n",
       "2707        True\n",
       "2850        True\n",
       "...          ...\n",
       "24046714    True\n",
       "24047329    True\n",
       "24056849    True\n",
       "24057564    True\n",
       "24057834    True\n",
       "\n",
       "[4499 rows x 1 columns]"
      ]
     },
     "execution_count": 17,
     "metadata": {},
     "output_type": "execute_result"
    }
   ],
   "source": [
    "df_nan=df_nan[df_nan['Rating']==True]\n",
    "df_nan"
   ]
  },
  {
   "cell_type": "code",
   "execution_count": 18,
   "id": "e3a37dfe",
   "metadata": {},
   "outputs": [
    {
     "data": {
      "text/plain": [
       "(4499, 1)"
      ]
     },
     "execution_count": 18,
     "metadata": {},
     "output_type": "execute_result"
    }
   ],
   "source": [
    "df_nan.shape"
   ]
  },
  {
   "cell_type": "code",
   "execution_count": 19,
   "id": "f3c36c78",
   "metadata": {},
   "outputs": [
    {
     "data": {
      "text/html": [
       "<div>\n",
       "<style scoped>\n",
       "    .dataframe tbody tr th:only-of-type {\n",
       "        vertical-align: middle;\n",
       "    }\n",
       "\n",
       "    .dataframe tbody tr th {\n",
       "        vertical-align: top;\n",
       "    }\n",
       "\n",
       "    .dataframe thead th {\n",
       "        text-align: right;\n",
       "    }\n",
       "</style>\n",
       "<table border=\"1\" class=\"dataframe\">\n",
       "  <thead>\n",
       "    <tr style=\"text-align: right;\">\n",
       "      <th></th>\n",
       "      <th>Rating</th>\n",
       "    </tr>\n",
       "  </thead>\n",
       "  <tbody>\n",
       "    <tr>\n",
       "      <th>0</th>\n",
       "      <td>True</td>\n",
       "    </tr>\n",
       "    <tr>\n",
       "      <th>548</th>\n",
       "      <td>True</td>\n",
       "    </tr>\n",
       "    <tr>\n",
       "      <th>694</th>\n",
       "      <td>True</td>\n",
       "    </tr>\n",
       "    <tr>\n",
       "      <th>2707</th>\n",
       "      <td>True</td>\n",
       "    </tr>\n",
       "    <tr>\n",
       "      <th>2850</th>\n",
       "      <td>True</td>\n",
       "    </tr>\n",
       "  </tbody>\n",
       "</table>\n",
       "</div>"
      ],
      "text/plain": [
       "      Rating\n",
       "0       True\n",
       "548     True\n",
       "694     True\n",
       "2707    True\n",
       "2850    True"
      ]
     },
     "execution_count": 19,
     "metadata": {},
     "output_type": "execute_result"
    }
   ],
   "source": [
    "df_nan.head()"
   ]
  },
  {
   "cell_type": "code",
   "execution_count": 20,
   "id": "da54ca40",
   "metadata": {},
   "outputs": [
    {
     "data": {
      "text/html": [
       "<div>\n",
       "<style scoped>\n",
       "    .dataframe tbody tr th:only-of-type {\n",
       "        vertical-align: middle;\n",
       "    }\n",
       "\n",
       "    .dataframe tbody tr th {\n",
       "        vertical-align: top;\n",
       "    }\n",
       "\n",
       "    .dataframe thead th {\n",
       "        text-align: right;\n",
       "    }\n",
       "</style>\n",
       "<table border=\"1\" class=\"dataframe\">\n",
       "  <thead>\n",
       "    <tr style=\"text-align: right;\">\n",
       "      <th></th>\n",
       "      <th>Rating</th>\n",
       "    </tr>\n",
       "  </thead>\n",
       "  <tbody>\n",
       "    <tr>\n",
       "      <th>24046714</th>\n",
       "      <td>True</td>\n",
       "    </tr>\n",
       "    <tr>\n",
       "      <th>24047329</th>\n",
       "      <td>True</td>\n",
       "    </tr>\n",
       "    <tr>\n",
       "      <th>24056849</th>\n",
       "      <td>True</td>\n",
       "    </tr>\n",
       "    <tr>\n",
       "      <th>24057564</th>\n",
       "      <td>True</td>\n",
       "    </tr>\n",
       "    <tr>\n",
       "      <th>24057834</th>\n",
       "      <td>True</td>\n",
       "    </tr>\n",
       "  </tbody>\n",
       "</table>\n",
       "</div>"
      ],
      "text/plain": [
       "          Rating\n",
       "24046714    True\n",
       "24047329    True\n",
       "24056849    True\n",
       "24057564    True\n",
       "24057834    True"
      ]
     },
     "execution_count": 20,
     "metadata": {},
     "output_type": "execute_result"
    }
   ],
   "source": [
    "df_nan.tail()"
   ]
  },
  {
   "cell_type": "code",
   "execution_count": 21,
   "id": "6c20e779",
   "metadata": {},
   "outputs": [],
   "source": [
    "#now we will reset the index as the column\n",
    "df_nan=df_nan.reset_index()"
   ]
  },
  {
   "cell_type": "code",
   "execution_count": 22,
   "id": "cac41467",
   "metadata": {},
   "outputs": [],
   "source": [
    "#To create a numpy array containing movie ids according the 'ratings' dataset\n",
    "\n",
    "movie_np = []\n",
    "movie_id = 1\n",
    "#into tuple\n",
    "for i,j in zip(df_nan['index'][1:],df_nan['index'][:-1]):\n",
    "    # numpy approach\n",
    "    temp = np.full((1,i-j-1), movie_id)\n",
    "    movie_np = np.append(movie_np, temp)\n",
    "    movie_id += 1"
   ]
  },
  {
   "cell_type": "code",
   "execution_count": 23,
   "id": "e9da56a4",
   "metadata": {},
   "outputs": [
    {
     "name": "stdout",
     "output_type": "stream",
     "text": [
      "Movie numpy: [1.000e+00 1.000e+00 1.000e+00 ... 4.499e+03 4.499e+03 4.499e+03]\n",
      "Length: 24053764\n"
     ]
    }
   ],
   "source": [
    "# Account for last record and corresponding length\n",
    "# numpy approach\n",
    "last_record = np.full((1,len(data) - df_nan.iloc[-1, 0] - 1),movie_id)\n",
    "movie_np = np.append(movie_np, last_record)\n",
    "\n",
    "print(f'Movie numpy: {movie_np}')\n",
    "print(f'Length: {len(movie_np)}')"
   ]
  },
  {
   "cell_type": "code",
   "execution_count": 24,
   "id": "7fb6cbb5",
   "metadata": {},
   "outputs": [
    {
     "name": "stdout",
     "output_type": "stream",
     "text": [
      "Now the dataset will look like: \n"
     ]
    },
    {
     "data": {
      "text/html": [
       "<div>\n",
       "<style scoped>\n",
       "    .dataframe tbody tr th:only-of-type {\n",
       "        vertical-align: middle;\n",
       "    }\n",
       "\n",
       "    .dataframe tbody tr th {\n",
       "        vertical-align: top;\n",
       "    }\n",
       "\n",
       "    .dataframe thead th {\n",
       "        text-align: right;\n",
       "    }\n",
       "</style>\n",
       "<table border=\"1\" class=\"dataframe\">\n",
       "  <thead>\n",
       "    <tr style=\"text-align: right;\">\n",
       "      <th></th>\n",
       "      <th>Cust_Id</th>\n",
       "      <th>Rating</th>\n",
       "      <th>Movie_Id</th>\n",
       "    </tr>\n",
       "  </thead>\n",
       "  <tbody>\n",
       "    <tr>\n",
       "      <th>1</th>\n",
       "      <td>1488844</td>\n",
       "      <td>3.0</td>\n",
       "      <td>1</td>\n",
       "    </tr>\n",
       "    <tr>\n",
       "      <th>2</th>\n",
       "      <td>822109</td>\n",
       "      <td>5.0</td>\n",
       "      <td>1</td>\n",
       "    </tr>\n",
       "    <tr>\n",
       "      <th>3</th>\n",
       "      <td>885013</td>\n",
       "      <td>4.0</td>\n",
       "      <td>1</td>\n",
       "    </tr>\n",
       "    <tr>\n",
       "      <th>4</th>\n",
       "      <td>30878</td>\n",
       "      <td>4.0</td>\n",
       "      <td>1</td>\n",
       "    </tr>\n",
       "    <tr>\n",
       "      <th>5</th>\n",
       "      <td>823519</td>\n",
       "      <td>3.0</td>\n",
       "      <td>1</td>\n",
       "    </tr>\n",
       "  </tbody>\n",
       "</table>\n",
       "</div>"
      ],
      "text/plain": [
       "   Cust_Id  Rating  Movie_Id\n",
       "1  1488844     3.0         1\n",
       "2   822109     5.0         1\n",
       "3   885013     4.0         1\n",
       "4    30878     4.0         1\n",
       "5   823519     3.0         1"
      ]
     },
     "execution_count": 24,
     "metadata": {},
     "output_type": "execute_result"
    }
   ],
   "source": [
    "#To append the above created array to the datset after removing the 'nan' rows\n",
    "data = data[pd.notnull(data['Rating'])]#movies count so nan\n",
    "data['Movie_Id'] = movie_np.astype(int)\n",
    "data['Cust_Id'] =data['Cust_Id'].astype(int)\n",
    "print(\"Now the dataset will look like: \")\n",
    "data.head()"
   ]
  },
  {
   "cell_type": "code",
   "execution_count": 25,
   "id": "3367f0bf",
   "metadata": {},
   "outputs": [
    {
     "data": {
      "text/html": [
       "<div>\n",
       "<style scoped>\n",
       "    .dataframe tbody tr th:only-of-type {\n",
       "        vertical-align: middle;\n",
       "    }\n",
       "\n",
       "    .dataframe tbody tr th {\n",
       "        vertical-align: top;\n",
       "    }\n",
       "\n",
       "    .dataframe thead th {\n",
       "        text-align: right;\n",
       "    }\n",
       "</style>\n",
       "<table border=\"1\" class=\"dataframe\">\n",
       "  <thead>\n",
       "    <tr style=\"text-align: right;\">\n",
       "      <th></th>\n",
       "      <th>Cust_Id</th>\n",
       "      <th>Rating</th>\n",
       "      <th>Movie_Id</th>\n",
       "    </tr>\n",
       "  </thead>\n",
       "  <tbody>\n",
       "    <tr>\n",
       "      <th>24058258</th>\n",
       "      <td>2591364</td>\n",
       "      <td>2.0</td>\n",
       "      <td>4499</td>\n",
       "    </tr>\n",
       "    <tr>\n",
       "      <th>24058259</th>\n",
       "      <td>1791000</td>\n",
       "      <td>2.0</td>\n",
       "      <td>4499</td>\n",
       "    </tr>\n",
       "    <tr>\n",
       "      <th>24058260</th>\n",
       "      <td>512536</td>\n",
       "      <td>5.0</td>\n",
       "      <td>4499</td>\n",
       "    </tr>\n",
       "    <tr>\n",
       "      <th>24058261</th>\n",
       "      <td>988963</td>\n",
       "      <td>3.0</td>\n",
       "      <td>4499</td>\n",
       "    </tr>\n",
       "    <tr>\n",
       "      <th>24058262</th>\n",
       "      <td>1704416</td>\n",
       "      <td>3.0</td>\n",
       "      <td>4499</td>\n",
       "    </tr>\n",
       "  </tbody>\n",
       "</table>\n",
       "</div>"
      ],
      "text/plain": [
       "          Cust_Id  Rating  Movie_Id\n",
       "24058258  2591364     2.0      4499\n",
       "24058259  1791000     2.0      4499\n",
       "24058260   512536     5.0      4499\n",
       "24058261   988963     3.0      4499\n",
       "24058262  1704416     3.0      4499"
      ]
     },
     "execution_count": 25,
     "metadata": {},
     "output_type": "execute_result"
    }
   ],
   "source": [
    "data.tail()"
   ]
  },
  {
   "cell_type": "markdown",
   "id": "09921e8d",
   "metadata": {},
   "source": [
    "### Data Preprocessing:\n",
    "+ Handling missing values and converting data types.\n",
    "+ Filtering out less active users and less frequently rated movies to improve computational efficiency."
   ]
  },
  {
   "cell_type": "code",
   "execution_count": 26,
   "id": "7d001808",
   "metadata": {},
   "outputs": [],
   "source": [
    "f = ['count','mean']\n",
    "#count and mean "
   ]
  },
  {
   "cell_type": "code",
   "execution_count": 27,
   "id": "12000f21",
   "metadata": {
    "scrolled": true
   },
   "outputs": [
    {
     "name": "stdout",
     "output_type": "stream",
     "text": [
      "Movie minimum times of review: 1799.0\n"
     ]
    }
   ],
   "source": [
    "#To create a list of all the movies rated less often(only include top 30% rated movies)\n",
    "dataset_movie_summary = data.groupby('Movie_Id')['Rating'].agg(f)\n",
    "\n",
    "dataset_movie_summary.index = dataset_movie_summary.index.map(int)\n",
    "\n",
    "movie_benchmark = round(dataset_movie_summary['count'].quantile(0.7),0)\n",
    "\n",
    "drop_movie_list = dataset_movie_summary[dataset_movie_summary['count'] < movie_benchmark].index\n",
    "\n",
    "print('Movie minimum times of review: {}'.format(movie_benchmark))"
   ]
  },
  {
   "cell_type": "code",
   "execution_count": 28,
   "id": "a96d9334",
   "metadata": {},
   "outputs": [
    {
     "name": "stdout",
     "output_type": "stream",
     "text": [
      "Customer minimum times of review: 52.0\n"
     ]
    }
   ],
   "source": [
    "#To create a list of all the inactive users(users who rate less often)\n",
    "dataset_cust_summary = data.groupby('Cust_Id')['Rating'].agg(f) #mean and count of customer id\n",
    "dataset_cust_summary.index = dataset_cust_summary.index.map(int) #integer format\n",
    "cust_benchmark = round(dataset_cust_summary['count'].quantile(0.7),0)\n",
    "drop_cust_list = dataset_cust_summary[dataset_cust_summary['count'] < cust_benchmark].index\n",
    "#                                           6                       <  5\n",
    "#drop_cust_list[3,4]\n",
    "print(f'Customer minimum times of review: {cust_benchmark}')\n"
   ]
  },
  {
   "cell_type": "code",
   "execution_count": 29,
   "id": "e6349d1e",
   "metadata": {},
   "outputs": [
    {
     "name": "stdout",
     "output_type": "stream",
     "text": [
      "Original Shape: (24053764, 3)\n"
     ]
    }
   ],
   "source": [
    "print(f'Original Shape: {data.shape}')"
   ]
  },
  {
   "cell_type": "code",
   "execution_count": 30,
   "id": "9284baf2",
   "metadata": {},
   "outputs": [
    {
     "name": "stdout",
     "output_type": "stream",
     "text": [
      "After Trim Shape: (17337458, 3)\n"
     ]
    }
   ],
   "source": [
    "data = data[~data['Movie_Id'].isin(drop_movie_list)]\n",
    "#in dataset --->in all movie ids------>if the whic ever  movies we put under drop list are present or not---\n",
    "#if present drop /remove them\n",
    "data = data[~data['Cust_Id'].isin(drop_cust_list)]\n",
    "#removing all inactive users from our dataset\n",
    "print('After Trim Shape: {}'.format(data.shape))"
   ]
  },
  {
   "cell_type": "code",
   "execution_count": 31,
   "id": "ce0e6102",
   "metadata": {},
   "outputs": [
    {
     "name": "stdout",
     "output_type": "stream",
     "text": [
      "Now the dataset will look like: \n"
     ]
    },
    {
     "data": {
      "text/html": [
       "<div>\n",
       "<style scoped>\n",
       "    .dataframe tbody tr th:only-of-type {\n",
       "        vertical-align: middle;\n",
       "    }\n",
       "\n",
       "    .dataframe tbody tr th {\n",
       "        vertical-align: top;\n",
       "    }\n",
       "\n",
       "    .dataframe thead th {\n",
       "        text-align: right;\n",
       "    }\n",
       "</style>\n",
       "<table border=\"1\" class=\"dataframe\">\n",
       "  <thead>\n",
       "    <tr style=\"text-align: right;\">\n",
       "      <th></th>\n",
       "      <th>Cust_Id</th>\n",
       "      <th>Rating</th>\n",
       "      <th>Movie_Id</th>\n",
       "    </tr>\n",
       "  </thead>\n",
       "  <tbody>\n",
       "    <tr>\n",
       "      <th>696</th>\n",
       "      <td>712664</td>\n",
       "      <td>5.0</td>\n",
       "      <td>3</td>\n",
       "    </tr>\n",
       "    <tr>\n",
       "      <th>697</th>\n",
       "      <td>1331154</td>\n",
       "      <td>4.0</td>\n",
       "      <td>3</td>\n",
       "    </tr>\n",
       "    <tr>\n",
       "      <th>698</th>\n",
       "      <td>2632461</td>\n",
       "      <td>3.0</td>\n",
       "      <td>3</td>\n",
       "    </tr>\n",
       "    <tr>\n",
       "      <th>699</th>\n",
       "      <td>44937</td>\n",
       "      <td>5.0</td>\n",
       "      <td>3</td>\n",
       "    </tr>\n",
       "    <tr>\n",
       "      <th>700</th>\n",
       "      <td>656399</td>\n",
       "      <td>4.0</td>\n",
       "      <td>3</td>\n",
       "    </tr>\n",
       "  </tbody>\n",
       "</table>\n",
       "</div>"
      ],
      "text/plain": [
       "     Cust_Id  Rating  Movie_Id\n",
       "696   712664     5.0         3\n",
       "697  1331154     4.0         3\n",
       "698  2632461     3.0         3\n",
       "699    44937     5.0         3\n",
       "700   656399     4.0         3"
      ]
     },
     "execution_count": 31,
     "metadata": {},
     "output_type": "execute_result"
    }
   ],
   "source": [
    "print(\"Now the dataset will look like: \")\n",
    "data.head()"
   ]
  },
  {
   "cell_type": "code",
   "execution_count": 32,
   "id": "73fc841d",
   "metadata": {},
   "outputs": [
    {
     "name": "stdout",
     "output_type": "stream",
     "text": [
      "(143458, 1350)\n"
     ]
    }
   ],
   "source": [
    "#Create ratings matrix for 'ratings' matrix with Rows = userId, Columns = movieId\n",
    "df_p = pd.pivot_table(data,values='Rating',index='Cust_Id',columns='Movie_Id')\n",
    "\n",
    "print(df_p.shape)"
   ]
  },
  {
   "cell_type": "code",
   "execution_count": 33,
   "id": "6f4da8b5",
   "metadata": {},
   "outputs": [
    {
     "data": {
      "text/html": [
       "<div>\n",
       "<style scoped>\n",
       "    .dataframe tbody tr th:only-of-type {\n",
       "        vertical-align: middle;\n",
       "    }\n",
       "\n",
       "    .dataframe tbody tr th {\n",
       "        vertical-align: top;\n",
       "    }\n",
       "\n",
       "    .dataframe thead th {\n",
       "        text-align: right;\n",
       "    }\n",
       "</style>\n",
       "<table border=\"1\" class=\"dataframe\">\n",
       "  <thead>\n",
       "    <tr style=\"text-align: right;\">\n",
       "      <th>Movie_Id</th>\n",
       "      <th>3</th>\n",
       "      <th>8</th>\n",
       "      <th>16</th>\n",
       "      <th>17</th>\n",
       "      <th>18</th>\n",
       "      <th>26</th>\n",
       "      <th>28</th>\n",
       "      <th>30</th>\n",
       "      <th>32</th>\n",
       "      <th>33</th>\n",
       "      <th>...</th>\n",
       "      <th>4472</th>\n",
       "      <th>4474</th>\n",
       "      <th>4478</th>\n",
       "      <th>4479</th>\n",
       "      <th>4485</th>\n",
       "      <th>4488</th>\n",
       "      <th>4490</th>\n",
       "      <th>4492</th>\n",
       "      <th>4493</th>\n",
       "      <th>4496</th>\n",
       "    </tr>\n",
       "    <tr>\n",
       "      <th>Cust_Id</th>\n",
       "      <th></th>\n",
       "      <th></th>\n",
       "      <th></th>\n",
       "      <th></th>\n",
       "      <th></th>\n",
       "      <th></th>\n",
       "      <th></th>\n",
       "      <th></th>\n",
       "      <th></th>\n",
       "      <th></th>\n",
       "      <th></th>\n",
       "      <th></th>\n",
       "      <th></th>\n",
       "      <th></th>\n",
       "      <th></th>\n",
       "      <th></th>\n",
       "      <th></th>\n",
       "      <th></th>\n",
       "      <th></th>\n",
       "      <th></th>\n",
       "      <th></th>\n",
       "    </tr>\n",
       "  </thead>\n",
       "  <tbody>\n",
       "    <tr>\n",
       "      <th>6</th>\n",
       "      <td>NaN</td>\n",
       "      <td>NaN</td>\n",
       "      <td>NaN</td>\n",
       "      <td>NaN</td>\n",
       "      <td>NaN</td>\n",
       "      <td>NaN</td>\n",
       "      <td>NaN</td>\n",
       "      <td>3.0</td>\n",
       "      <td>NaN</td>\n",
       "      <td>NaN</td>\n",
       "      <td>...</td>\n",
       "      <td>3.0</td>\n",
       "      <td>NaN</td>\n",
       "      <td>NaN</td>\n",
       "      <td>NaN</td>\n",
       "      <td>NaN</td>\n",
       "      <td>NaN</td>\n",
       "      <td>NaN</td>\n",
       "      <td>NaN</td>\n",
       "      <td>NaN</td>\n",
       "      <td>NaN</td>\n",
       "    </tr>\n",
       "    <tr>\n",
       "      <th>7</th>\n",
       "      <td>NaN</td>\n",
       "      <td>5.0</td>\n",
       "      <td>NaN</td>\n",
       "      <td>NaN</td>\n",
       "      <td>NaN</td>\n",
       "      <td>NaN</td>\n",
       "      <td>4.0</td>\n",
       "      <td>5.0</td>\n",
       "      <td>NaN</td>\n",
       "      <td>NaN</td>\n",
       "      <td>...</td>\n",
       "      <td>3.0</td>\n",
       "      <td>NaN</td>\n",
       "      <td>NaN</td>\n",
       "      <td>5.0</td>\n",
       "      <td>NaN</td>\n",
       "      <td>NaN</td>\n",
       "      <td>NaN</td>\n",
       "      <td>NaN</td>\n",
       "      <td>NaN</td>\n",
       "      <td>NaN</td>\n",
       "    </tr>\n",
       "    <tr>\n",
       "      <th>79</th>\n",
       "      <td>NaN</td>\n",
       "      <td>NaN</td>\n",
       "      <td>NaN</td>\n",
       "      <td>NaN</td>\n",
       "      <td>NaN</td>\n",
       "      <td>NaN</td>\n",
       "      <td>NaN</td>\n",
       "      <td>3.0</td>\n",
       "      <td>NaN</td>\n",
       "      <td>NaN</td>\n",
       "      <td>...</td>\n",
       "      <td>4.0</td>\n",
       "      <td>NaN</td>\n",
       "      <td>NaN</td>\n",
       "      <td>NaN</td>\n",
       "      <td>NaN</td>\n",
       "      <td>NaN</td>\n",
       "      <td>4.0</td>\n",
       "      <td>NaN</td>\n",
       "      <td>NaN</td>\n",
       "      <td>NaN</td>\n",
       "    </tr>\n",
       "    <tr>\n",
       "      <th>97</th>\n",
       "      <td>NaN</td>\n",
       "      <td>NaN</td>\n",
       "      <td>NaN</td>\n",
       "      <td>NaN</td>\n",
       "      <td>NaN</td>\n",
       "      <td>NaN</td>\n",
       "      <td>NaN</td>\n",
       "      <td>NaN</td>\n",
       "      <td>NaN</td>\n",
       "      <td>NaN</td>\n",
       "      <td>...</td>\n",
       "      <td>NaN</td>\n",
       "      <td>NaN</td>\n",
       "      <td>NaN</td>\n",
       "      <td>NaN</td>\n",
       "      <td>NaN</td>\n",
       "      <td>NaN</td>\n",
       "      <td>NaN</td>\n",
       "      <td>NaN</td>\n",
       "      <td>NaN</td>\n",
       "      <td>NaN</td>\n",
       "    </tr>\n",
       "    <tr>\n",
       "      <th>134</th>\n",
       "      <td>NaN</td>\n",
       "      <td>NaN</td>\n",
       "      <td>NaN</td>\n",
       "      <td>NaN</td>\n",
       "      <td>NaN</td>\n",
       "      <td>NaN</td>\n",
       "      <td>5.0</td>\n",
       "      <td>NaN</td>\n",
       "      <td>NaN</td>\n",
       "      <td>NaN</td>\n",
       "      <td>...</td>\n",
       "      <td>NaN</td>\n",
       "      <td>NaN</td>\n",
       "      <td>NaN</td>\n",
       "      <td>NaN</td>\n",
       "      <td>NaN</td>\n",
       "      <td>NaN</td>\n",
       "      <td>NaN</td>\n",
       "      <td>NaN</td>\n",
       "      <td>NaN</td>\n",
       "      <td>NaN</td>\n",
       "    </tr>\n",
       "  </tbody>\n",
       "</table>\n",
       "<p>5 rows × 1350 columns</p>\n",
       "</div>"
      ],
      "text/plain": [
       "Movie_Id  3     8     16    17    18    26    28    30    32    33    ...  \\\n",
       "Cust_Id                                                               ...   \n",
       "6          NaN   NaN   NaN   NaN   NaN   NaN   NaN   3.0   NaN   NaN  ...   \n",
       "7          NaN   5.0   NaN   NaN   NaN   NaN   4.0   5.0   NaN   NaN  ...   \n",
       "79         NaN   NaN   NaN   NaN   NaN   NaN   NaN   3.0   NaN   NaN  ...   \n",
       "97         NaN   NaN   NaN   NaN   NaN   NaN   NaN   NaN   NaN   NaN  ...   \n",
       "134        NaN   NaN   NaN   NaN   NaN   NaN   5.0   NaN   NaN   NaN  ...   \n",
       "\n",
       "Movie_Id  4472  4474  4478  4479  4485  4488  4490  4492  4493  4496  \n",
       "Cust_Id                                                               \n",
       "6          3.0   NaN   NaN   NaN   NaN   NaN   NaN   NaN   NaN   NaN  \n",
       "7          3.0   NaN   NaN   5.0   NaN   NaN   NaN   NaN   NaN   NaN  \n",
       "79         4.0   NaN   NaN   NaN   NaN   NaN   4.0   NaN   NaN   NaN  \n",
       "97         NaN   NaN   NaN   NaN   NaN   NaN   NaN   NaN   NaN   NaN  \n",
       "134        NaN   NaN   NaN   NaN   NaN   NaN   NaN   NaN   NaN   NaN  \n",
       "\n",
       "[5 rows x 1350 columns]"
      ]
     },
     "execution_count": 33,
     "metadata": {},
     "output_type": "execute_result"
    }
   ],
   "source": [
    "df_p.head()"
   ]
  },
  {
   "cell_type": "markdown",
   "id": "1b3d9451",
   "metadata": {},
   "source": [
    "###  loading the movie_titles dataset"
   ]
  },
  {
   "cell_type": "code",
   "execution_count": 34,
   "id": "c980aa60",
   "metadata": {},
   "outputs": [
    {
     "name": "stdout",
     "output_type": "stream",
     "text": [
      "            Year                          Name\n",
      "Movie_Id                                      \n",
      "1         2003.0               Dinosaur Planet\n",
      "2         2004.0    Isle of Man TT 2004 Review\n",
      "3         1997.0                     Character\n",
      "4         1994.0  Paula Abdul's Get Up & Dance\n",
      "5         2004.0      The Rise and Fall of ECW\n",
      "6         1997.0                          Sick\n",
      "7         1992.0                         8 Man\n",
      "8         2004.0    What the #$*! Do We Know!?\n",
      "9         1991.0      Class of Nuke 'Em High 2\n",
      "10        2001.0                       Fighter\n"
     ]
    }
   ],
   "source": [
    "df_title = pd.read_csv(\"movie_titles.csv\",  encoding='ISO-8859-1', header=None, usecols=[0,1,2], names=['Movie_Id','Year','Name' ])\n",
    "\n",
    "df_title.set_index('Movie_Id', inplace=True)\n",
    "\n",
    "print (df_title.head(10))"
   ]
  },
  {
   "cell_type": "markdown",
   "id": "5d1ee25f",
   "metadata": {},
   "source": [
    "### Singular Value Decomposition (SVD):\n",
    "+ Using the Surprise library to perform matrix factorization using SVD.\n",
    "+  Evaluating the model's performance using cross-validation."
   ]
  },
  {
   "cell_type": "code",
   "execution_count": 35,
   "id": "63b3e380",
   "metadata": {},
   "outputs": [
    {
     "name": "stdout",
     "output_type": "stream",
     "text": [
      "Evaluating RMSE, MAE of algorithm SVD on 3 split(s).\n",
      "\n",
      "                  Fold 1  Fold 2  Fold 3  Mean    Std     \n",
      "RMSE (testset)    0.9951  1.0003  0.9986  0.9980  0.0022  \n",
      "MAE (testset)     0.8041  0.8065  0.7935  0.8014  0.0057  \n",
      "Fit time          0.85    0.86    0.91    0.87    0.03    \n",
      "Test time         0.20    0.19    0.29    0.22    0.04    \n"
     ]
    },
    {
     "data": {
      "text/plain": [
       "{'test_rmse': array([0.99511779, 1.00029999, 0.99862006]),\n",
       " 'test_mae': array([0.80411669, 0.80647904, 0.79346912]),\n",
       " 'fit_time': (0.8463349342346191, 0.8581662178039551, 0.9116008281707764),\n",
       " 'test_time': (0.19728517532348633, 0.18892168998718262, 0.28527235984802246)}"
      ]
     },
     "execution_count": 35,
     "metadata": {},
     "output_type": "execute_result"
    }
   ],
   "source": [
    "# Load Reader library\n",
    "reader = Reader()\n",
    "\n",
    "# get just top 100K rows for faster run time\n",
    "dataset = Dataset.load_from_df(data[['Cust_Id', 'Movie_Id', 'Rating']][:100000], reader)\n",
    "\n",
    "# Use the SVD algorithm.\n",
    "svd = SVD()\n",
    "\n",
    "# Compute the RMSE of the SVD algorithm\n",
    "cross_validate(svd, dataset, measures=['RMSE', 'MAE'], cv=3, verbose=True)"
   ]
  },
  {
   "cell_type": "code",
   "execution_count": 36,
   "id": "ed1ee551",
   "metadata": {},
   "outputs": [
    {
     "data": {
      "text/html": [
       "<div>\n",
       "<style scoped>\n",
       "    .dataframe tbody tr th:only-of-type {\n",
       "        vertical-align: middle;\n",
       "    }\n",
       "\n",
       "    .dataframe tbody tr th {\n",
       "        vertical-align: top;\n",
       "    }\n",
       "\n",
       "    .dataframe thead th {\n",
       "        text-align: right;\n",
       "    }\n",
       "</style>\n",
       "<table border=\"1\" class=\"dataframe\">\n",
       "  <thead>\n",
       "    <tr style=\"text-align: right;\">\n",
       "      <th></th>\n",
       "      <th>Cust_Id</th>\n",
       "      <th>Rating</th>\n",
       "      <th>Movie_Id</th>\n",
       "    </tr>\n",
       "  </thead>\n",
       "  <tbody>\n",
       "    <tr>\n",
       "      <th>696</th>\n",
       "      <td>712664</td>\n",
       "      <td>5.0</td>\n",
       "      <td>3</td>\n",
       "    </tr>\n",
       "    <tr>\n",
       "      <th>697</th>\n",
       "      <td>1331154</td>\n",
       "      <td>4.0</td>\n",
       "      <td>3</td>\n",
       "    </tr>\n",
       "    <tr>\n",
       "      <th>698</th>\n",
       "      <td>2632461</td>\n",
       "      <td>3.0</td>\n",
       "      <td>3</td>\n",
       "    </tr>\n",
       "    <tr>\n",
       "      <th>699</th>\n",
       "      <td>44937</td>\n",
       "      <td>5.0</td>\n",
       "      <td>3</td>\n",
       "    </tr>\n",
       "    <tr>\n",
       "      <th>700</th>\n",
       "      <td>656399</td>\n",
       "      <td>4.0</td>\n",
       "      <td>3</td>\n",
       "    </tr>\n",
       "  </tbody>\n",
       "</table>\n",
       "</div>"
      ],
      "text/plain": [
       "     Cust_Id  Rating  Movie_Id\n",
       "696   712664     5.0         3\n",
       "697  1331154     4.0         3\n",
       "698  2632461     3.0         3\n",
       "699    44937     5.0         3\n",
       "700   656399     4.0         3"
      ]
     },
     "execution_count": 36,
     "metadata": {},
     "output_type": "execute_result"
    }
   ],
   "source": [
    "data.head()"
   ]
  },
  {
   "cell_type": "markdown",
   "id": "6d51c9cd",
   "metadata": {},
   "source": [
    "### Recommendation Generation:\n",
    "+ Defining functions to retrieve highly rated movies for a given user and to generate recommendations based on predicted ratings.\n",
    "+ Examples provided for generating recommendations for specific users."
   ]
  },
  {
   "cell_type": "code",
   "execution_count": 37,
   "id": "ceaaf367",
   "metadata": {},
   "outputs": [],
   "source": [
    "# To find all the movies rated as 5 stars by user with userId = 712664"
   ]
  },
  {
   "cell_type": "code",
   "execution_count": 38,
   "id": "e10b81a6",
   "metadata": {},
   "outputs": [],
   "source": [
    "def get_highly_rated_movies(user_id, rating_threshold=5):\n",
    "    # Filter the data to get movies rated 5 stars by the specified user\n",
    "    user_movies = data[(data['Cust_Id'] == user_id) & (data['Rating'] == rating_threshold)]\n",
    "    \n",
    "    # Set the index to 'Movie_Id'\n",
    "    user_movies = user_movies.set_index('Movie_Id')\n",
    "    \n",
    "    # Join with the movie titles DataFrame to get movie names\n",
    "    user_movies = user_movies.join(df_title)['Name']\n",
    "    \n",
    "    return user_movies"
   ]
  },
  {
   "cell_type": "markdown",
   "id": "d957dee6",
   "metadata": {},
   "source": [
    "### Example 1: user_id = 712664"
   ]
  },
  {
   "cell_type": "code",
   "execution_count": 39,
   "id": "19b12d6f",
   "metadata": {},
   "outputs": [
    {
     "data": {
      "text/plain": [
       "Movie_Id\n",
       "3                              Character\n",
       "79                           The Killing\n",
       "175                       Reservoir Dogs\n",
       "199                      The Deer Hunter\n",
       "241                   North by Northwest\n",
       "256    Ghost Dog: The Way of the Samurai\n",
       "348        The Last Temptation of Christ\n",
       "357                House of Sand and Fog\n",
       "416                             Elephant\n",
       "442                  Mississippi Burning\n",
       "Name: Name, dtype: object"
      ]
     },
     "execution_count": 39,
     "metadata": {},
     "output_type": "execute_result"
    }
   ],
   "source": [
    "# Example usage for user 712664:\n",
    "user_id = 712664  # Change this to the desired user ID\n",
    "highly_rated_movies = get_highly_rated_movies(user_id)\n",
    "highly_rated_movies.head(10)"
   ]
  },
  {
   "cell_type": "code",
   "execution_count": 41,
   "id": "a4481f42",
   "metadata": {},
   "outputs": [
    {
     "name": "stdout",
     "output_type": "stream",
     "text": [
      "        Year                        Name  Estimate_Score\n",
      "174   1992.0              Reservoir Dogs        5.000000\n",
      "1031  1992.0                 Hard Boiled        5.000000\n",
      "871   1954.0               Seven Samurai        5.000000\n",
      "2101  1994.0      The Simpsons: Season 6        5.000000\n",
      "1290  1960.0  The Twilight Zone: Vol. 19        5.000000\n",
      "3289  1974.0               The Godfather        4.984894\n",
      "2128  1960.0  The Twilight Zone: Vol. 41        4.966957\n",
      "1855  1960.0  The Twilight Zone: Vol. 39        4.963805\n",
      "1651  1961.0  The Twilight Zone: Vol. 37        4.943736\n",
      "1688  2003.0          Concert for George        4.923114\n"
     ]
    }
   ],
   "source": [
    "# Create a shallow copy for the movies dataset\n",
    "user_712664 = df_title.copy()\n",
    "\n",
    "user_712664 = user_712664.reset_index()\n",
    "\n",
    "#To remove all the movies rated less often \n",
    "user_712664 = user_712664[~user_712664['Movie_Id'].isin(drop_movie_list)]\n",
    "\n",
    "\n",
    "# getting full dataset\n",
    "dataset = Dataset.load_from_df(data[['Cust_Id', 'Movie_Id', 'Rating']], reader)\n",
    "\n",
    "#create a training set for svd\n",
    "trainset = dataset.build_full_trainset()\n",
    "svd.fit(trainset)\n",
    "\n",
    "#Predict the ratings for user_712664\n",
    "user_712664['Estimate_Score'] = user_712664['Movie_Id'].apply(lambda x: svd.predict(712664, x).est)\n",
    "\n",
    "#Drop extra columns from the user_712664 data frame\n",
    "user_712664 = user_712664.drop('Movie_Id', axis = 1)\n",
    "\n",
    "# Sort predicted ratings for user_712664 in descending order\n",
    "user_712664 = user_712664.sort_values('Estimate_Score', ascending=False)\n",
    "\n",
    "#Print top 10 recommendations\n",
    "print(user_712664.head(10))\n"
   ]
  },
  {
   "cell_type": "markdown",
   "id": "7214cdd7",
   "metadata": {},
   "source": [
    "### Example 2: user_id = 656399 "
   ]
  },
  {
   "cell_type": "code",
   "execution_count": 42,
   "id": "1f5f1df5",
   "metadata": {
    "scrolled": true
   },
   "outputs": [
    {
     "data": {
      "text/plain": [
       "Movie_Id\n",
       "571                                  American Beauty\n",
       "1245                                       Threesome\n",
       "1590                                 Life as a House\n",
       "1707    Outfoxed: Rupert Murdoch's War on Journalism\n",
       "3986                                   Life and Debt\n",
       "Name: Name, dtype: object"
      ]
     },
     "execution_count": 42,
     "metadata": {},
     "output_type": "execute_result"
    }
   ],
   "source": [
    "# Example usage for user 656399:\n",
    "user_id = 656399 \n",
    "highly_rated_movies = get_highly_rated_movies(user_id)\n",
    "highly_rated_movies.head(10)"
   ]
  },
  {
   "cell_type": "code",
   "execution_count": 43,
   "id": "7d08616b",
   "metadata": {},
   "outputs": [
    {
     "name": "stdout",
     "output_type": "stream",
     "text": [
      "        Year                                          Name  Estimate_Score\n",
      "1740  1999.0                            Cowboy Bebop Remix        4.308652\n",
      "1706  2004.0  Outfoxed: Rupert Murdoch's War on Journalism        4.234691\n",
      "4344  2002.0                         Bowling for Columbine        4.229127\n",
      "1617  1984.0            Nausicaa of the Valley of the Wind        4.196623\n",
      "1475  2004.0                      Six Feet Under: Season 4        4.163465\n",
      "3455  2004.0                                Lost: Season 1        4.085794\n",
      "2328  2004.0                                  Control Room        4.084439\n",
      "3985  2001.0                                 Life and Debt        4.076505\n",
      "2802  1995.0                           Pride and Prejudice        4.066963\n",
      "3445  2002.0                                 Spirited Away        4.065641\n"
     ]
    }
   ],
   "source": [
    "# Create a shallow copy for the movies dataset\n",
    "user_656399  = df_title.copy()\n",
    "\n",
    "user_656399  = user_656399 .reset_index()\n",
    "\n",
    "#To remove all the movies rated less often \n",
    "user_656399  = user_656399 [~user_656399 ['Movie_Id'].isin(drop_movie_list)]\n",
    "\n",
    "\n",
    "# getting full dataset\n",
    "dataset = Dataset.load_from_df(data[['Cust_Id', 'Movie_Id', 'Rating']], reader)\n",
    "\n",
    "#create a training set for svd\n",
    "trainset = dataset.build_full_trainset()\n",
    "svd.fit(trainset)\n",
    "\n",
    "#Predict the ratings for user_656399 \n",
    "user_656399 ['Estimate_Score'] = user_656399 ['Movie_Id'].apply(lambda x: svd.predict(656399, x).est)\n",
    "\n",
    "#Drop extra columns from the user_656399  data frame\n",
    "user_656399  = user_656399 .drop('Movie_Id', axis = 1)\n",
    "\n",
    "# Sort predicted ratings for user_656399  in descending order\n",
    "user_656399  = user_656399 .sort_values('Estimate_Score', ascending=False)\n",
    "\n",
    "#Print top 10 recommendations\n",
    "print(user_656399 .head(10))\n"
   ]
  },
  {
   "cell_type": "markdown",
   "id": "541304f8",
   "metadata": {},
   "source": [
    "### Example 3: user_id = 2632461  "
   ]
  },
  {
   "cell_type": "code",
   "execution_count": 44,
   "id": "187ac16f",
   "metadata": {},
   "outputs": [
    {
     "data": {
      "text/plain": [
       "Movie_Id\n",
       "798                                      Jaws\n",
       "1144                     Fried Green Tomatoes\n",
       "1180                         A Beautiful Mind\n",
       "3605    The Wizard of Oz: Collector's Edition\n",
       "Name: Name, dtype: object"
      ]
     },
     "execution_count": 44,
     "metadata": {},
     "output_type": "execute_result"
    }
   ],
   "source": [
    "# Example usage for user 2632461:\n",
    "user_id = 2632461  \n",
    "highly_rated_movies = get_highly_rated_movies(user_id)\n",
    "highly_rated_movies.head(10)"
   ]
  },
  {
   "cell_type": "code",
   "execution_count": 45,
   "id": "15043e79",
   "metadata": {},
   "outputs": [
    {
     "name": "stdout",
     "output_type": "stream",
     "text": [
      "        Year                                   Name  Estimate_Score\n",
      "4426  2001.0                The West Wing: Season 3        4.488795\n",
      "3443  2004.0  Family Guy: Freakin' Sweet Collection        4.417366\n",
      "2101  1994.0                 The Simpsons: Season 6        4.340916\n",
      "3455  2004.0                         Lost: Season 1        4.330925\n",
      "1688  2003.0                     Concert for George        4.271866\n",
      "222   2003.0             Chappelle's Show: Season 1        4.218191\n",
      "3045  1990.0      The Simpsons: Treehouse of Horror        4.217135\n",
      "3927  2004.0                     Nip/Tuck: Season 2        4.212488\n",
      "2171  1991.0                 The Simpsons: Season 3        4.204344\n",
      "1019  1989.0                 The Simpsons: Season 1        4.201272\n"
     ]
    }
   ],
   "source": [
    "# Create a shallow copy for the movies dataset\n",
    "user_2632461  = df_title.copy()\n",
    "\n",
    "user_2632461 = user_2632461 .reset_index()\n",
    "\n",
    "#To remove all the movies rated less often \n",
    "user_2632461  = user_2632461 [~user_2632461 ['Movie_Id'].isin(drop_movie_list)]\n",
    "\n",
    "\n",
    "# getting full dataset\n",
    "dataset = Dataset.load_from_df(data[['Cust_Id', 'Movie_Id', 'Rating']], reader)\n",
    "\n",
    "#create a training set for svd\n",
    "trainset = dataset.build_full_trainset()\n",
    "svd.fit(trainset)\n",
    "\n",
    "#Predict the ratings for user_2632461\n",
    "user_2632461['Estimate_Score'] = user_2632461['Movie_Id'].apply(lambda x: svd.predict(2632461, x).est)\n",
    "\n",
    "#Drop extra columns from the user_2632461  data frame\n",
    "user_2632461  = user_2632461 .drop('Movie_Id', axis = 1)\n",
    "\n",
    "# Sort predicted ratings for user_2632461  in descending order\n",
    "user_2632461  = user_2632461 .sort_values('Estimate_Score', ascending=False)\n",
    "\n",
    "#Print top 10 recommendations\n",
    "print(user_2632461.head(10))"
   ]
  },
  {
   "cell_type": "code",
   "execution_count": null,
   "id": "2c76fa1d",
   "metadata": {},
   "outputs": [],
   "source": []
  }
 ],
 "metadata": {
  "kernelspec": {
   "display_name": "Python 3 (ipykernel)",
   "language": "python",
   "name": "python3"
  },
  "language_info": {
   "codemirror_mode": {
    "name": "ipython",
    "version": 3
   },
   "file_extension": ".py",
   "mimetype": "text/x-python",
   "name": "python",
   "nbconvert_exporter": "python",
   "pygments_lexer": "ipython3",
   "version": "3.11.3"
  }
 },
 "nbformat": 4,
 "nbformat_minor": 5
}
